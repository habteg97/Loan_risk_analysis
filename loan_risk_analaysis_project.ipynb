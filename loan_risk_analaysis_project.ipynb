{
  "cells": [
    {
      "cell_type": "markdown",
      "metadata": {
        "id": "view-in-github",
        "colab_type": "text"
      },
      "source": [
        "<a href=\"https://colab.research.google.com/github/habteg97/Loan_risk_analysis/blob/main/loan_risk_analaysis_project.ipynb\" target=\"_parent\"><img src=\"https://colab.research.google.com/assets/colab-badge.svg\" alt=\"Open In Colab\"/></a>"
      ]
    },
    {
      "cell_type": "markdown",
      "id": "6201b7fb",
      "metadata": {
        "id": "6201b7fb"
      },
      "source": [
        "# Project: Loan Risk Assessment\n",
        "\n",
        "\n",
        "# Project Objectives:\n",
        "*     Analyze the factors that impact the loan status most.  \n",
        "*     Analyze how likely the loan would be defaulted given different features."
      ]
    },
    {
      "cell_type": "code",
      "execution_count": 1,
      "id": "2d49a0e4",
      "metadata": {
        "id": "2d49a0e4"
      },
      "outputs": [],
      "source": [
        "import pandas as pd, numpy as np\n",
        "import matplotlib.pyplot as plt\n",
        "%matplotlib inline\n",
        "import seaborn as sns\n",
        "sns.set()\n",
        "import warnings\n",
        "warnings.filterwarnings('ignore')"
      ]
    },
    {
      "cell_type": "code",
      "source": [
        "from google.colab import drive\n",
        "drive.mount('/content/gdrive')"
      ],
      "metadata": {
        "colab": {
          "base_uri": "https://localhost:8080/"
        },
        "id": "bI33zDP6XAU9",
        "outputId": "beefba04-711b-43e7-d707-4e9fccb66f38"
      },
      "id": "bI33zDP6XAU9",
      "execution_count": 2,
      "outputs": [
        {
          "output_type": "stream",
          "name": "stdout",
          "text": [
            "Mounted at /content/gdrive\n"
          ]
        }
      ]
    },
    {
      "cell_type": "code",
      "execution_count": 3,
      "id": "859685b9",
      "metadata": {
        "id": "859685b9"
      },
      "outputs": [],
      "source": [
        "loan_df = pd.read_csv('/content/gdrive/MyDrive/Thinkful/Projects/Project_by_Python/credit_risk_dataset.csv')"
      ]
    },
    {
      "cell_type": "markdown",
      "id": "948b02fc",
      "metadata": {
        "id": "948b02fc"
      },
      "source": [
        "## copy the dataFrame to keep the original intact"
      ]
    },
    {
      "cell_type": "code",
      "execution_count": null,
      "id": "c04124f8",
      "metadata": {
        "id": "c04124f8"
      },
      "outputs": [],
      "source": [
        "loan_df2 = loan_df.copy()"
      ]
    },
    {
      "cell_type": "markdown",
      "id": "2eb5f634",
      "metadata": {
        "id": "2eb5f634"
      },
      "source": [
        "\n",
        "## Initial exploration\n",
        "- Understand dataset\n",
        "    - how many rows/columns?\n",
        "    - what does a row represent?\n",
        "    - what is our target variable?\n",
        "- Check for missing values\n",
        "- Check data types\n",
        "- Check for issues in target variable\n",
        "- Investigate initial relationships and distributions"
      ]
    },
    {
      "cell_type": "markdown",
      "id": "b9165941",
      "metadata": {
        "id": "b9165941"
      },
      "source": [
        "## What do I have"
      ]
    },
    {
      "cell_type": "code",
      "execution_count": null,
      "id": "ddfa2c9e",
      "metadata": {
        "colab": {
          "base_uri": "https://localhost:8080/"
        },
        "id": "ddfa2c9e",
        "outputId": "565a4658-b5d8-4e01-d6c3-368683cf5ce3"
      },
      "outputs": [
        {
          "output_type": "stream",
          "name": "stdout",
          "text": [
            "<class 'pandas.core.frame.DataFrame'>\n",
            "RangeIndex: 32581 entries, 0 to 32580\n",
            "Data columns (total 11 columns):\n",
            " #   Column                      Non-Null Count  Dtype  \n",
            "---  ------                      --------------  -----  \n",
            " 0   person_age                  32581 non-null  int64  \n",
            " 1   person_income               32581 non-null  int64  \n",
            " 2   person_home_ownership       32581 non-null  object \n",
            " 3   person_emp_length           31686 non-null  float64\n",
            " 4   loan_intent                 32581 non-null  object \n",
            " 5   loan_amnt                   32581 non-null  int64  \n",
            " 6   loan_int_rate               29465 non-null  float64\n",
            " 7   loan_status                 32581 non-null  int64  \n",
            " 8   loan_percent_income         32581 non-null  float64\n",
            " 9   cb_person_default_on_file   32581 non-null  object \n",
            " 10  cb_person_cred_hist_length  32581 non-null  int64  \n",
            "dtypes: float64(3), int64(5), object(3)\n",
            "memory usage: 2.7+ MB\n"
          ]
        }
      ],
      "source": [
        "loan_df2.info()"
      ]
    },
    {
      "cell_type": "markdown",
      "id": "9b36dada",
      "metadata": {
        "id": "9b36dada"
      },
      "source": [
        "## Target variable:\n",
        "    y = loan_status"
      ]
    },
    {
      "cell_type": "code",
      "execution_count": null,
      "id": "a0c6ae1c",
      "metadata": {
        "colab": {
          "base_uri": "https://localhost:8080/"
        },
        "id": "a0c6ae1c",
        "outputId": "f0f34b03-9d38-4673-dc91-f76dce0c19c0"
      },
      "outputs": [
        {
          "output_type": "execute_result",
          "data": {
            "text/plain": [
              "0        1\n",
              "1        0\n",
              "2        1\n",
              "3        1\n",
              "4        1\n",
              "        ..\n",
              "32576    0\n",
              "32577    0\n",
              "32578    1\n",
              "32579    0\n",
              "32580    0\n",
              "Name: loan_status, Length: 32581, dtype: int64"
            ]
          },
          "metadata": {},
          "execution_count": 8
        }
      ],
      "source": [
        "loan_df2['loan_status']"
      ]
    },
    {
      "cell_type": "markdown",
      "id": "67e554a5",
      "metadata": {
        "id": "67e554a5"
      },
      "source": [
        "## Descriptive statistics"
      ]
    },
    {
      "cell_type": "code",
      "execution_count": null,
      "id": "9eb9450b",
      "metadata": {
        "colab": {
          "base_uri": "https://localhost:8080/",
          "height": 301
        },
        "id": "9eb9450b",
        "outputId": "cb6f9e56-a023-4f4a-d6db-8a835de1b4cf"
      },
      "outputs": [
        {
          "output_type": "execute_result",
          "data": {
            "text/plain": [
              "         person_age  person_income  person_emp_length     loan_amnt  \\\n",
              "count  32581.000000   3.258100e+04       31686.000000  32581.000000   \n",
              "mean      27.734600   6.607485e+04           4.789686   9589.371106   \n",
              "std        6.348078   6.198312e+04           4.142630   6322.086646   \n",
              "min       20.000000   4.000000e+03           0.000000    500.000000   \n",
              "25%       23.000000   3.850000e+04           2.000000   5000.000000   \n",
              "50%       26.000000   5.500000e+04           4.000000   8000.000000   \n",
              "75%       30.000000   7.920000e+04           7.000000  12200.000000   \n",
              "max      144.000000   6.000000e+06         123.000000  35000.000000   \n",
              "\n",
              "       loan_int_rate   loan_status  loan_percent_income  \\\n",
              "count   29465.000000  32581.000000         32581.000000   \n",
              "mean       11.011695      0.218164             0.170203   \n",
              "std         3.240459      0.413006             0.106782   \n",
              "min         5.420000      0.000000             0.000000   \n",
              "25%         7.900000      0.000000             0.090000   \n",
              "50%        10.990000      0.000000             0.150000   \n",
              "75%        13.470000      0.000000             0.230000   \n",
              "max        23.220000      1.000000             0.830000   \n",
              "\n",
              "       cb_person_cred_hist_length  \n",
              "count                32581.000000  \n",
              "mean                     5.804211  \n",
              "std                      4.055001  \n",
              "min                      2.000000  \n",
              "25%                      3.000000  \n",
              "50%                      4.000000  \n",
              "75%                      8.000000  \n",
              "max                     30.000000  "
            ],
            "text/html": [
              "\n",
              "\n",
              "  <div id=\"df-92d9a14d-5bed-444b-b9f8-9bc074dde78f\">\n",
              "    <div class=\"colab-df-container\">\n",
              "      <div>\n",
              "<style scoped>\n",
              "    .dataframe tbody tr th:only-of-type {\n",
              "        vertical-align: middle;\n",
              "    }\n",
              "\n",
              "    .dataframe tbody tr th {\n",
              "        vertical-align: top;\n",
              "    }\n",
              "\n",
              "    .dataframe thead th {\n",
              "        text-align: right;\n",
              "    }\n",
              "</style>\n",
              "<table border=\"1\" class=\"dataframe\">\n",
              "  <thead>\n",
              "    <tr style=\"text-align: right;\">\n",
              "      <th></th>\n",
              "      <th>person_age</th>\n",
              "      <th>person_income</th>\n",
              "      <th>person_emp_length</th>\n",
              "      <th>loan_amnt</th>\n",
              "      <th>loan_int_rate</th>\n",
              "      <th>loan_status</th>\n",
              "      <th>loan_percent_income</th>\n",
              "      <th>cb_person_cred_hist_length</th>\n",
              "    </tr>\n",
              "  </thead>\n",
              "  <tbody>\n",
              "    <tr>\n",
              "      <th>count</th>\n",
              "      <td>32581.000000</td>\n",
              "      <td>3.258100e+04</td>\n",
              "      <td>31686.000000</td>\n",
              "      <td>32581.000000</td>\n",
              "      <td>29465.000000</td>\n",
              "      <td>32581.000000</td>\n",
              "      <td>32581.000000</td>\n",
              "      <td>32581.000000</td>\n",
              "    </tr>\n",
              "    <tr>\n",
              "      <th>mean</th>\n",
              "      <td>27.734600</td>\n",
              "      <td>6.607485e+04</td>\n",
              "      <td>4.789686</td>\n",
              "      <td>9589.371106</td>\n",
              "      <td>11.011695</td>\n",
              "      <td>0.218164</td>\n",
              "      <td>0.170203</td>\n",
              "      <td>5.804211</td>\n",
              "    </tr>\n",
              "    <tr>\n",
              "      <th>std</th>\n",
              "      <td>6.348078</td>\n",
              "      <td>6.198312e+04</td>\n",
              "      <td>4.142630</td>\n",
              "      <td>6322.086646</td>\n",
              "      <td>3.240459</td>\n",
              "      <td>0.413006</td>\n",
              "      <td>0.106782</td>\n",
              "      <td>4.055001</td>\n",
              "    </tr>\n",
              "    <tr>\n",
              "      <th>min</th>\n",
              "      <td>20.000000</td>\n",
              "      <td>4.000000e+03</td>\n",
              "      <td>0.000000</td>\n",
              "      <td>500.000000</td>\n",
              "      <td>5.420000</td>\n",
              "      <td>0.000000</td>\n",
              "      <td>0.000000</td>\n",
              "      <td>2.000000</td>\n",
              "    </tr>\n",
              "    <tr>\n",
              "      <th>25%</th>\n",
              "      <td>23.000000</td>\n",
              "      <td>3.850000e+04</td>\n",
              "      <td>2.000000</td>\n",
              "      <td>5000.000000</td>\n",
              "      <td>7.900000</td>\n",
              "      <td>0.000000</td>\n",
              "      <td>0.090000</td>\n",
              "      <td>3.000000</td>\n",
              "    </tr>\n",
              "    <tr>\n",
              "      <th>50%</th>\n",
              "      <td>26.000000</td>\n",
              "      <td>5.500000e+04</td>\n",
              "      <td>4.000000</td>\n",
              "      <td>8000.000000</td>\n",
              "      <td>10.990000</td>\n",
              "      <td>0.000000</td>\n",
              "      <td>0.150000</td>\n",
              "      <td>4.000000</td>\n",
              "    </tr>\n",
              "    <tr>\n",
              "      <th>75%</th>\n",
              "      <td>30.000000</td>\n",
              "      <td>7.920000e+04</td>\n",
              "      <td>7.000000</td>\n",
              "      <td>12200.000000</td>\n",
              "      <td>13.470000</td>\n",
              "      <td>0.000000</td>\n",
              "      <td>0.230000</td>\n",
              "      <td>8.000000</td>\n",
              "    </tr>\n",
              "    <tr>\n",
              "      <th>max</th>\n",
              "      <td>144.000000</td>\n",
              "      <td>6.000000e+06</td>\n",
              "      <td>123.000000</td>\n",
              "      <td>35000.000000</td>\n",
              "      <td>23.220000</td>\n",
              "      <td>1.000000</td>\n",
              "      <td>0.830000</td>\n",
              "      <td>30.000000</td>\n",
              "    </tr>\n",
              "  </tbody>\n",
              "</table>\n",
              "</div>\n",
              "      <button class=\"colab-df-convert\" onclick=\"convertToInteractive('df-92d9a14d-5bed-444b-b9f8-9bc074dde78f')\"\n",
              "              title=\"Convert this dataframe to an interactive table.\"\n",
              "              style=\"display:none;\">\n",
              "\n",
              "  <svg xmlns=\"http://www.w3.org/2000/svg\" height=\"24px\"viewBox=\"0 0 24 24\"\n",
              "       width=\"24px\">\n",
              "    <path d=\"M0 0h24v24H0V0z\" fill=\"none\"/>\n",
              "    <path d=\"M18.56 5.44l.94 2.06.94-2.06 2.06-.94-2.06-.94-.94-2.06-.94 2.06-2.06.94zm-11 1L8.5 8.5l.94-2.06 2.06-.94-2.06-.94L8.5 2.5l-.94 2.06-2.06.94zm10 10l.94 2.06.94-2.06 2.06-.94-2.06-.94-.94-2.06-.94 2.06-2.06.94z\"/><path d=\"M17.41 7.96l-1.37-1.37c-.4-.4-.92-.59-1.43-.59-.52 0-1.04.2-1.43.59L10.3 9.45l-7.72 7.72c-.78.78-.78 2.05 0 2.83L4 21.41c.39.39.9.59 1.41.59.51 0 1.02-.2 1.41-.59l7.78-7.78 2.81-2.81c.8-.78.8-2.07 0-2.86zM5.41 20L4 18.59l7.72-7.72 1.47 1.35L5.41 20z\"/>\n",
              "  </svg>\n",
              "      </button>\n",
              "\n",
              "\n",
              "\n",
              "    <div id=\"df-4f5ffa92-4e09-483c-a015-860b39700a62\">\n",
              "      <button class=\"colab-df-quickchart\" onclick=\"quickchart('df-4f5ffa92-4e09-483c-a015-860b39700a62')\"\n",
              "              title=\"Suggest charts.\"\n",
              "              style=\"display:none;\">\n",
              "\n",
              "<svg xmlns=\"http://www.w3.org/2000/svg\" height=\"24px\"viewBox=\"0 0 24 24\"\n",
              "     width=\"24px\">\n",
              "    <g>\n",
              "        <path d=\"M19 3H5c-1.1 0-2 .9-2 2v14c0 1.1.9 2 2 2h14c1.1 0 2-.9 2-2V5c0-1.1-.9-2-2-2zM9 17H7v-7h2v7zm4 0h-2V7h2v10zm4 0h-2v-4h2v4z\"/>\n",
              "    </g>\n",
              "</svg>\n",
              "      </button>\n",
              "    </div>\n",
              "\n",
              "<style>\n",
              "  .colab-df-quickchart {\n",
              "    background-color: #E8F0FE;\n",
              "    border: none;\n",
              "    border-radius: 50%;\n",
              "    cursor: pointer;\n",
              "    display: none;\n",
              "    fill: #1967D2;\n",
              "    height: 32px;\n",
              "    padding: 0 0 0 0;\n",
              "    width: 32px;\n",
              "  }\n",
              "\n",
              "  .colab-df-quickchart:hover {\n",
              "    background-color: #E2EBFA;\n",
              "    box-shadow: 0px 1px 2px rgba(60, 64, 67, 0.3), 0px 1px 3px 1px rgba(60, 64, 67, 0.15);\n",
              "    fill: #174EA6;\n",
              "  }\n",
              "\n",
              "  [theme=dark] .colab-df-quickchart {\n",
              "    background-color: #3B4455;\n",
              "    fill: #D2E3FC;\n",
              "  }\n",
              "\n",
              "  [theme=dark] .colab-df-quickchart:hover {\n",
              "    background-color: #434B5C;\n",
              "    box-shadow: 0px 1px 3px 1px rgba(0, 0, 0, 0.15);\n",
              "    filter: drop-shadow(0px 1px 2px rgba(0, 0, 0, 0.3));\n",
              "    fill: #FFFFFF;\n",
              "  }\n",
              "</style>\n",
              "\n",
              "    <script>\n",
              "      async function quickchart(key) {\n",
              "        const containerElement = document.querySelector('#' + key);\n",
              "        const charts = await google.colab.kernel.invokeFunction(\n",
              "            'suggestCharts', [key], {});\n",
              "      }\n",
              "    </script>\n",
              "\n",
              "      <script>\n",
              "\n",
              "function displayQuickchartButton(domScope) {\n",
              "  let quickchartButtonEl =\n",
              "    domScope.querySelector('#df-4f5ffa92-4e09-483c-a015-860b39700a62 button.colab-df-quickchart');\n",
              "  quickchartButtonEl.style.display =\n",
              "    google.colab.kernel.accessAllowed ? 'block' : 'none';\n",
              "}\n",
              "\n",
              "        displayQuickchartButton(document);\n",
              "      </script>\n",
              "      <style>\n",
              "    .colab-df-container {\n",
              "      display:flex;\n",
              "      flex-wrap:wrap;\n",
              "      gap: 12px;\n",
              "    }\n",
              "\n",
              "    .colab-df-convert {\n",
              "      background-color: #E8F0FE;\n",
              "      border: none;\n",
              "      border-radius: 50%;\n",
              "      cursor: pointer;\n",
              "      display: none;\n",
              "      fill: #1967D2;\n",
              "      height: 32px;\n",
              "      padding: 0 0 0 0;\n",
              "      width: 32px;\n",
              "    }\n",
              "\n",
              "    .colab-df-convert:hover {\n",
              "      background-color: #E2EBFA;\n",
              "      box-shadow: 0px 1px 2px rgba(60, 64, 67, 0.3), 0px 1px 3px 1px rgba(60, 64, 67, 0.15);\n",
              "      fill: #174EA6;\n",
              "    }\n",
              "\n",
              "    [theme=dark] .colab-df-convert {\n",
              "      background-color: #3B4455;\n",
              "      fill: #D2E3FC;\n",
              "    }\n",
              "\n",
              "    [theme=dark] .colab-df-convert:hover {\n",
              "      background-color: #434B5C;\n",
              "      box-shadow: 0px 1px 3px 1px rgba(0, 0, 0, 0.15);\n",
              "      filter: drop-shadow(0px 1px 2px rgba(0, 0, 0, 0.3));\n",
              "      fill: #FFFFFF;\n",
              "    }\n",
              "  </style>\n",
              "\n",
              "      <script>\n",
              "        const buttonEl =\n",
              "          document.querySelector('#df-92d9a14d-5bed-444b-b9f8-9bc074dde78f button.colab-df-convert');\n",
              "        buttonEl.style.display =\n",
              "          google.colab.kernel.accessAllowed ? 'block' : 'none';\n",
              "\n",
              "        async function convertToInteractive(key) {\n",
              "          const element = document.querySelector('#df-92d9a14d-5bed-444b-b9f8-9bc074dde78f');\n",
              "          const dataTable =\n",
              "            await google.colab.kernel.invokeFunction('convertToInteractive',\n",
              "                                                     [key], {});\n",
              "          if (!dataTable) return;\n",
              "\n",
              "          const docLinkHtml = 'Like what you see? Visit the ' +\n",
              "            '<a target=\"_blank\" href=https://colab.research.google.com/notebooks/data_table.ipynb>data table notebook</a>'\n",
              "            + ' to learn more about interactive tables.';\n",
              "          element.innerHTML = '';\n",
              "          dataTable['output_type'] = 'display_data';\n",
              "          await google.colab.output.renderOutput(dataTable, element);\n",
              "          const docLink = document.createElement('div');\n",
              "          docLink.innerHTML = docLinkHtml;\n",
              "          element.appendChild(docLink);\n",
              "        }\n",
              "      </script>\n",
              "    </div>\n",
              "  </div>\n"
            ]
          },
          "metadata": {},
          "execution_count": 9
        }
      ],
      "source": [
        "loan_df2.describe()"
      ]
    },
    {
      "cell_type": "markdown",
      "id": "baa65a27",
      "metadata": {
        "id": "baa65a27"
      },
      "source": [
        "## Issues with person_age and person_emp_length\n",
        "### Assumptions:\n",
        "* person_age has to be not older than 100: drop, if any, older than 100.\n",
        "* person_emp_length has to be not more than 80 to give sense: drop, if any, greater than 80."
      ]
    },
    {
      "cell_type": "code",
      "execution_count": null,
      "id": "78ac4334",
      "metadata": {
        "colab": {
          "base_uri": "https://localhost:8080/"
        },
        "id": "78ac4334",
        "outputId": "1f55cd30-7989-4256-cf89-144b587dfd01"
      },
      "outputs": [
        {
          "output_type": "execute_result",
          "data": {
            "text/plain": [
              "(7, 11)"
            ]
          },
          "metadata": {},
          "execution_count": 10
        }
      ],
      "source": [
        "# ages > 100 or person employment length >80--> to be dropped\n",
        "loan_df_to_be_dropped =  loan_df2[(loan_df2['person_emp_length']>80) | (loan_df2['person_age']>100)]\n",
        "loan_df_to_be_dropped.shape"
      ]
    },
    {
      "cell_type": "markdown",
      "id": "6fc92a88",
      "metadata": {
        "id": "6fc92a88"
      },
      "source": [
        "### Dropping ages >100 and employment length  > 80"
      ]
    },
    {
      "cell_type": "code",
      "execution_count": null,
      "id": "dff1b566",
      "metadata": {
        "scrolled": true,
        "colab": {
          "base_uri": "https://localhost:8080/",
          "height": 301
        },
        "id": "dff1b566",
        "outputId": "63fb4ce6-b0c3-40bc-cabb-fc69dcd4ccb7"
      },
      "outputs": [
        {
          "output_type": "execute_result",
          "data": {
            "text/plain": [
              "         person_age  person_income  person_emp_length     loan_amnt  \\\n",
              "count  32574.000000   3.257400e+04       31679.000000  32574.000000   \n",
              "mean      27.718426   6.587848e+04           4.782064   9588.018051   \n",
              "std        6.204987   5.253194e+04           4.034948   6320.249598   \n",
              "min       20.000000   4.000000e+03           0.000000    500.000000   \n",
              "25%       23.000000   3.850000e+04           2.000000   5000.000000   \n",
              "50%       26.000000   5.500000e+04           4.000000   8000.000000   \n",
              "75%       30.000000   7.920000e+04           7.000000  12200.000000   \n",
              "max       94.000000   2.039784e+06          41.000000  35000.000000   \n",
              "\n",
              "       loan_int_rate   loan_status  loan_percent_income  \\\n",
              "count   29459.000000  32574.000000         32574.000000   \n",
              "mean       11.011529      0.218180             0.170202   \n",
              "std         3.240497      0.413017             0.106755   \n",
              "min         5.420000      0.000000             0.000000   \n",
              "25%         7.900000      0.000000             0.090000   \n",
              "50%        10.990000      0.000000             0.150000   \n",
              "75%        13.470000      0.000000             0.230000   \n",
              "max        23.220000      1.000000             0.830000   \n",
              "\n",
              "       cb_person_cred_hist_length  \n",
              "count                32574.000000  \n",
              "mean                     5.804108  \n",
              "std                      4.053873  \n",
              "min                      2.000000  \n",
              "25%                      3.000000  \n",
              "50%                      4.000000  \n",
              "75%                      8.000000  \n",
              "max                     30.000000  "
            ],
            "text/html": [
              "\n",
              "\n",
              "  <div id=\"df-eeec6dea-b925-49a8-8b02-8260123892f5\">\n",
              "    <div class=\"colab-df-container\">\n",
              "      <div>\n",
              "<style scoped>\n",
              "    .dataframe tbody tr th:only-of-type {\n",
              "        vertical-align: middle;\n",
              "    }\n",
              "\n",
              "    .dataframe tbody tr th {\n",
              "        vertical-align: top;\n",
              "    }\n",
              "\n",
              "    .dataframe thead th {\n",
              "        text-align: right;\n",
              "    }\n",
              "</style>\n",
              "<table border=\"1\" class=\"dataframe\">\n",
              "  <thead>\n",
              "    <tr style=\"text-align: right;\">\n",
              "      <th></th>\n",
              "      <th>person_age</th>\n",
              "      <th>person_income</th>\n",
              "      <th>person_emp_length</th>\n",
              "      <th>loan_amnt</th>\n",
              "      <th>loan_int_rate</th>\n",
              "      <th>loan_status</th>\n",
              "      <th>loan_percent_income</th>\n",
              "      <th>cb_person_cred_hist_length</th>\n",
              "    </tr>\n",
              "  </thead>\n",
              "  <tbody>\n",
              "    <tr>\n",
              "      <th>count</th>\n",
              "      <td>32574.000000</td>\n",
              "      <td>3.257400e+04</td>\n",
              "      <td>31679.000000</td>\n",
              "      <td>32574.000000</td>\n",
              "      <td>29459.000000</td>\n",
              "      <td>32574.000000</td>\n",
              "      <td>32574.000000</td>\n",
              "      <td>32574.000000</td>\n",
              "    </tr>\n",
              "    <tr>\n",
              "      <th>mean</th>\n",
              "      <td>27.718426</td>\n",
              "      <td>6.587848e+04</td>\n",
              "      <td>4.782064</td>\n",
              "      <td>9588.018051</td>\n",
              "      <td>11.011529</td>\n",
              "      <td>0.218180</td>\n",
              "      <td>0.170202</td>\n",
              "      <td>5.804108</td>\n",
              "    </tr>\n",
              "    <tr>\n",
              "      <th>std</th>\n",
              "      <td>6.204987</td>\n",
              "      <td>5.253194e+04</td>\n",
              "      <td>4.034948</td>\n",
              "      <td>6320.249598</td>\n",
              "      <td>3.240497</td>\n",
              "      <td>0.413017</td>\n",
              "      <td>0.106755</td>\n",
              "      <td>4.053873</td>\n",
              "    </tr>\n",
              "    <tr>\n",
              "      <th>min</th>\n",
              "      <td>20.000000</td>\n",
              "      <td>4.000000e+03</td>\n",
              "      <td>0.000000</td>\n",
              "      <td>500.000000</td>\n",
              "      <td>5.420000</td>\n",
              "      <td>0.000000</td>\n",
              "      <td>0.000000</td>\n",
              "      <td>2.000000</td>\n",
              "    </tr>\n",
              "    <tr>\n",
              "      <th>25%</th>\n",
              "      <td>23.000000</td>\n",
              "      <td>3.850000e+04</td>\n",
              "      <td>2.000000</td>\n",
              "      <td>5000.000000</td>\n",
              "      <td>7.900000</td>\n",
              "      <td>0.000000</td>\n",
              "      <td>0.090000</td>\n",
              "      <td>3.000000</td>\n",
              "    </tr>\n",
              "    <tr>\n",
              "      <th>50%</th>\n",
              "      <td>26.000000</td>\n",
              "      <td>5.500000e+04</td>\n",
              "      <td>4.000000</td>\n",
              "      <td>8000.000000</td>\n",
              "      <td>10.990000</td>\n",
              "      <td>0.000000</td>\n",
              "      <td>0.150000</td>\n",
              "      <td>4.000000</td>\n",
              "    </tr>\n",
              "    <tr>\n",
              "      <th>75%</th>\n",
              "      <td>30.000000</td>\n",
              "      <td>7.920000e+04</td>\n",
              "      <td>7.000000</td>\n",
              "      <td>12200.000000</td>\n",
              "      <td>13.470000</td>\n",
              "      <td>0.000000</td>\n",
              "      <td>0.230000</td>\n",
              "      <td>8.000000</td>\n",
              "    </tr>\n",
              "    <tr>\n",
              "      <th>max</th>\n",
              "      <td>94.000000</td>\n",
              "      <td>2.039784e+06</td>\n",
              "      <td>41.000000</td>\n",
              "      <td>35000.000000</td>\n",
              "      <td>23.220000</td>\n",
              "      <td>1.000000</td>\n",
              "      <td>0.830000</td>\n",
              "      <td>30.000000</td>\n",
              "    </tr>\n",
              "  </tbody>\n",
              "</table>\n",
              "</div>\n",
              "      <button class=\"colab-df-convert\" onclick=\"convertToInteractive('df-eeec6dea-b925-49a8-8b02-8260123892f5')\"\n",
              "              title=\"Convert this dataframe to an interactive table.\"\n",
              "              style=\"display:none;\">\n",
              "\n",
              "  <svg xmlns=\"http://www.w3.org/2000/svg\" height=\"24px\"viewBox=\"0 0 24 24\"\n",
              "       width=\"24px\">\n",
              "    <path d=\"M0 0h24v24H0V0z\" fill=\"none\"/>\n",
              "    <path d=\"M18.56 5.44l.94 2.06.94-2.06 2.06-.94-2.06-.94-.94-2.06-.94 2.06-2.06.94zm-11 1L8.5 8.5l.94-2.06 2.06-.94-2.06-.94L8.5 2.5l-.94 2.06-2.06.94zm10 10l.94 2.06.94-2.06 2.06-.94-2.06-.94-.94-2.06-.94 2.06-2.06.94z\"/><path d=\"M17.41 7.96l-1.37-1.37c-.4-.4-.92-.59-1.43-.59-.52 0-1.04.2-1.43.59L10.3 9.45l-7.72 7.72c-.78.78-.78 2.05 0 2.83L4 21.41c.39.39.9.59 1.41.59.51 0 1.02-.2 1.41-.59l7.78-7.78 2.81-2.81c.8-.78.8-2.07 0-2.86zM5.41 20L4 18.59l7.72-7.72 1.47 1.35L5.41 20z\"/>\n",
              "  </svg>\n",
              "      </button>\n",
              "\n",
              "\n",
              "\n",
              "    <div id=\"df-81e51c67-d75b-46cb-954e-423aca1a4907\">\n",
              "      <button class=\"colab-df-quickchart\" onclick=\"quickchart('df-81e51c67-d75b-46cb-954e-423aca1a4907')\"\n",
              "              title=\"Suggest charts.\"\n",
              "              style=\"display:none;\">\n",
              "\n",
              "<svg xmlns=\"http://www.w3.org/2000/svg\" height=\"24px\"viewBox=\"0 0 24 24\"\n",
              "     width=\"24px\">\n",
              "    <g>\n",
              "        <path d=\"M19 3H5c-1.1 0-2 .9-2 2v14c0 1.1.9 2 2 2h14c1.1 0 2-.9 2-2V5c0-1.1-.9-2-2-2zM9 17H7v-7h2v7zm4 0h-2V7h2v10zm4 0h-2v-4h2v4z\"/>\n",
              "    </g>\n",
              "</svg>\n",
              "      </button>\n",
              "    </div>\n",
              "\n",
              "<style>\n",
              "  .colab-df-quickchart {\n",
              "    background-color: #E8F0FE;\n",
              "    border: none;\n",
              "    border-radius: 50%;\n",
              "    cursor: pointer;\n",
              "    display: none;\n",
              "    fill: #1967D2;\n",
              "    height: 32px;\n",
              "    padding: 0 0 0 0;\n",
              "    width: 32px;\n",
              "  }\n",
              "\n",
              "  .colab-df-quickchart:hover {\n",
              "    background-color: #E2EBFA;\n",
              "    box-shadow: 0px 1px 2px rgba(60, 64, 67, 0.3), 0px 1px 3px 1px rgba(60, 64, 67, 0.15);\n",
              "    fill: #174EA6;\n",
              "  }\n",
              "\n",
              "  [theme=dark] .colab-df-quickchart {\n",
              "    background-color: #3B4455;\n",
              "    fill: #D2E3FC;\n",
              "  }\n",
              "\n",
              "  [theme=dark] .colab-df-quickchart:hover {\n",
              "    background-color: #434B5C;\n",
              "    box-shadow: 0px 1px 3px 1px rgba(0, 0, 0, 0.15);\n",
              "    filter: drop-shadow(0px 1px 2px rgba(0, 0, 0, 0.3));\n",
              "    fill: #FFFFFF;\n",
              "  }\n",
              "</style>\n",
              "\n",
              "    <script>\n",
              "      async function quickchart(key) {\n",
              "        const containerElement = document.querySelector('#' + key);\n",
              "        const charts = await google.colab.kernel.invokeFunction(\n",
              "            'suggestCharts', [key], {});\n",
              "      }\n",
              "    </script>\n",
              "\n",
              "      <script>\n",
              "\n",
              "function displayQuickchartButton(domScope) {\n",
              "  let quickchartButtonEl =\n",
              "    domScope.querySelector('#df-81e51c67-d75b-46cb-954e-423aca1a4907 button.colab-df-quickchart');\n",
              "  quickchartButtonEl.style.display =\n",
              "    google.colab.kernel.accessAllowed ? 'block' : 'none';\n",
              "}\n",
              "\n",
              "        displayQuickchartButton(document);\n",
              "      </script>\n",
              "      <style>\n",
              "    .colab-df-container {\n",
              "      display:flex;\n",
              "      flex-wrap:wrap;\n",
              "      gap: 12px;\n",
              "    }\n",
              "\n",
              "    .colab-df-convert {\n",
              "      background-color: #E8F0FE;\n",
              "      border: none;\n",
              "      border-radius: 50%;\n",
              "      cursor: pointer;\n",
              "      display: none;\n",
              "      fill: #1967D2;\n",
              "      height: 32px;\n",
              "      padding: 0 0 0 0;\n",
              "      width: 32px;\n",
              "    }\n",
              "\n",
              "    .colab-df-convert:hover {\n",
              "      background-color: #E2EBFA;\n",
              "      box-shadow: 0px 1px 2px rgba(60, 64, 67, 0.3), 0px 1px 3px 1px rgba(60, 64, 67, 0.15);\n",
              "      fill: #174EA6;\n",
              "    }\n",
              "\n",
              "    [theme=dark] .colab-df-convert {\n",
              "      background-color: #3B4455;\n",
              "      fill: #D2E3FC;\n",
              "    }\n",
              "\n",
              "    [theme=dark] .colab-df-convert:hover {\n",
              "      background-color: #434B5C;\n",
              "      box-shadow: 0px 1px 3px 1px rgba(0, 0, 0, 0.15);\n",
              "      filter: drop-shadow(0px 1px 2px rgba(0, 0, 0, 0.3));\n",
              "      fill: #FFFFFF;\n",
              "    }\n",
              "  </style>\n",
              "\n",
              "      <script>\n",
              "        const buttonEl =\n",
              "          document.querySelector('#df-eeec6dea-b925-49a8-8b02-8260123892f5 button.colab-df-convert');\n",
              "        buttonEl.style.display =\n",
              "          google.colab.kernel.accessAllowed ? 'block' : 'none';\n",
              "\n",
              "        async function convertToInteractive(key) {\n",
              "          const element = document.querySelector('#df-eeec6dea-b925-49a8-8b02-8260123892f5');\n",
              "          const dataTable =\n",
              "            await google.colab.kernel.invokeFunction('convertToInteractive',\n",
              "                                                     [key], {});\n",
              "          if (!dataTable) return;\n",
              "\n",
              "          const docLinkHtml = 'Like what you see? Visit the ' +\n",
              "            '<a target=\"_blank\" href=https://colab.research.google.com/notebooks/data_table.ipynb>data table notebook</a>'\n",
              "            + ' to learn more about interactive tables.';\n",
              "          element.innerHTML = '';\n",
              "          dataTable['output_type'] = 'display_data';\n",
              "          await google.colab.output.renderOutput(dataTable, element);\n",
              "          const docLink = document.createElement('div');\n",
              "          docLink.innerHTML = docLinkHtml;\n",
              "          element.appendChild(docLink);\n",
              "        }\n",
              "      </script>\n",
              "    </div>\n",
              "  </div>\n"
            ]
          },
          "metadata": {},
          "execution_count": 11
        }
      ],
      "source": [
        "loan_df_assumption = loan_df2.drop(loan_df_to_be_dropped.index)\n",
        "loan_df_assumption.describe()"
      ]
    },
    {
      "cell_type": "markdown",
      "id": "abf75011",
      "metadata": {
        "id": "abf75011"
      },
      "source": [
        "## Missing values"
      ]
    },
    {
      "cell_type": "code",
      "execution_count": null,
      "id": "fc085d2b",
      "metadata": {
        "scrolled": true,
        "colab": {
          "base_uri": "https://localhost:8080/"
        },
        "id": "fc085d2b",
        "outputId": "807ee5cd-3d02-43ee-c686-b93ceacf9dd5"
      },
      "outputs": [
        {
          "output_type": "execute_result",
          "data": {
            "text/plain": [
              "person_age                       0\n",
              "person_income                    0\n",
              "person_home_ownership            0\n",
              "person_emp_length              895\n",
              "loan_intent                      0\n",
              "loan_amnt                        0\n",
              "loan_int_rate                 3115\n",
              "loan_status                      0\n",
              "loan_percent_income              0\n",
              "cb_person_default_on_file        0\n",
              "cb_person_cred_hist_length       0\n",
              "dtype: int64"
            ]
          },
          "metadata": {},
          "execution_count": 12
        }
      ],
      "source": [
        "loan_df_assumption.isnull().sum()"
      ]
    },
    {
      "cell_type": "markdown",
      "id": "9f56bd23",
      "metadata": {
        "id": "9f56bd23"
      },
      "source": [
        "## filling missing values:"
      ]
    },
    {
      "cell_type": "markdown",
      "id": "4f77da4b",
      "metadata": {
        "id": "4f77da4b"
      },
      "source": [
        "### fill nulls of `person_emp_length` and `loan_int_rate` by .mean() of the corresponding column"
      ]
    },
    {
      "cell_type": "code",
      "execution_count": null,
      "id": "a5e3d2e8",
      "metadata": {
        "id": "a5e3d2e8"
      },
      "outputs": [],
      "source": [
        "loan_df_assumption = loan_df_assumption.fillna({'person_emp_length':loan_df_assumption['person_emp_length'].mean(), 'loan_int_rate':loan_df_assumption['loan_int_rate'].mean()})"
      ]
    },
    {
      "cell_type": "markdown",
      "id": "025b5bcb",
      "metadata": {
        "id": "025b5bcb"
      },
      "source": [
        "### Check to see if the missing values are filled"
      ]
    },
    {
      "cell_type": "code",
      "execution_count": null,
      "id": "3e660a38",
      "metadata": {
        "scrolled": false,
        "colab": {
          "base_uri": "https://localhost:8080/"
        },
        "id": "3e660a38",
        "outputId": "3857acac-0cf8-41e1-cba0-90abfca25fe7"
      },
      "outputs": [
        {
          "output_type": "stream",
          "name": "stdout",
          "text": [
            "<class 'pandas.core.frame.DataFrame'>\n",
            "Int64Index: 32574 entries, 1 to 32580\n",
            "Data columns (total 11 columns):\n",
            " #   Column                      Non-Null Count  Dtype  \n",
            "---  ------                      --------------  -----  \n",
            " 0   person_age                  32574 non-null  int64  \n",
            " 1   person_income               32574 non-null  int64  \n",
            " 2   person_home_ownership       32574 non-null  object \n",
            " 3   person_emp_length           32574 non-null  float64\n",
            " 4   loan_intent                 32574 non-null  object \n",
            " 5   loan_amnt                   32574 non-null  int64  \n",
            " 6   loan_int_rate               32574 non-null  float64\n",
            " 7   loan_status                 32574 non-null  int64  \n",
            " 8   loan_percent_income         32574 non-null  float64\n",
            " 9   cb_person_default_on_file   32574 non-null  object \n",
            " 10  cb_person_cred_hist_length  32574 non-null  int64  \n",
            "dtypes: float64(3), int64(5), object(3)\n",
            "memory usage: 3.0+ MB\n"
          ]
        }
      ],
      "source": [
        "loan_df_assumption.info()"
      ]
    },
    {
      "cell_type": "markdown",
      "id": "a070e2b8",
      "metadata": {
        "id": "a070e2b8"
      },
      "source": [
        "### index before resetting"
      ]
    },
    {
      "cell_type": "code",
      "execution_count": null,
      "id": "f26cef97",
      "metadata": {
        "colab": {
          "base_uri": "https://localhost:8080/",
          "height": 206
        },
        "id": "f26cef97",
        "outputId": "cdd64c46-f2d1-4cba-b340-4bdf2e50e975"
      },
      "outputs": [
        {
          "output_type": "execute_result",
          "data": {
            "text/plain": [
              "   person_age  person_income person_home_ownership  person_emp_length  \\\n",
              "1          21           9600                   OWN                5.0   \n",
              "2          25           9600              MORTGAGE                1.0   \n",
              "3          23          65500                  RENT                4.0   \n",
              "4          24          54400                  RENT                8.0   \n",
              "5          21           9900                   OWN                2.0   \n",
              "\n",
              "  loan_intent  loan_amnt  loan_int_rate  loan_status  loan_percent_income  \\\n",
              "1   EDUCATION       1000          11.14            0                 0.10   \n",
              "2     MEDICAL       5500          12.87            1                 0.57   \n",
              "3     MEDICAL      35000          15.23            1                 0.53   \n",
              "4     MEDICAL      35000          14.27            1                 0.55   \n",
              "5     VENTURE       2500           7.14            1                 0.25   \n",
              "\n",
              "  cb_person_default_on_file  cb_person_cred_hist_length  \n",
              "1                         N                           2  \n",
              "2                         N                           3  \n",
              "3                         N                           2  \n",
              "4                         Y                           4  \n",
              "5                         N                           2  "
            ],
            "text/html": [
              "\n",
              "\n",
              "  <div id=\"df-be8d1575-24ff-49ca-9aba-c26c6a39daf5\">\n",
              "    <div class=\"colab-df-container\">\n",
              "      <div>\n",
              "<style scoped>\n",
              "    .dataframe tbody tr th:only-of-type {\n",
              "        vertical-align: middle;\n",
              "    }\n",
              "\n",
              "    .dataframe tbody tr th {\n",
              "        vertical-align: top;\n",
              "    }\n",
              "\n",
              "    .dataframe thead th {\n",
              "        text-align: right;\n",
              "    }\n",
              "</style>\n",
              "<table border=\"1\" class=\"dataframe\">\n",
              "  <thead>\n",
              "    <tr style=\"text-align: right;\">\n",
              "      <th></th>\n",
              "      <th>person_age</th>\n",
              "      <th>person_income</th>\n",
              "      <th>person_home_ownership</th>\n",
              "      <th>person_emp_length</th>\n",
              "      <th>loan_intent</th>\n",
              "      <th>loan_amnt</th>\n",
              "      <th>loan_int_rate</th>\n",
              "      <th>loan_status</th>\n",
              "      <th>loan_percent_income</th>\n",
              "      <th>cb_person_default_on_file</th>\n",
              "      <th>cb_person_cred_hist_length</th>\n",
              "    </tr>\n",
              "  </thead>\n",
              "  <tbody>\n",
              "    <tr>\n",
              "      <th>1</th>\n",
              "      <td>21</td>\n",
              "      <td>9600</td>\n",
              "      <td>OWN</td>\n",
              "      <td>5.0</td>\n",
              "      <td>EDUCATION</td>\n",
              "      <td>1000</td>\n",
              "      <td>11.14</td>\n",
              "      <td>0</td>\n",
              "      <td>0.10</td>\n",
              "      <td>N</td>\n",
              "      <td>2</td>\n",
              "    </tr>\n",
              "    <tr>\n",
              "      <th>2</th>\n",
              "      <td>25</td>\n",
              "      <td>9600</td>\n",
              "      <td>MORTGAGE</td>\n",
              "      <td>1.0</td>\n",
              "      <td>MEDICAL</td>\n",
              "      <td>5500</td>\n",
              "      <td>12.87</td>\n",
              "      <td>1</td>\n",
              "      <td>0.57</td>\n",
              "      <td>N</td>\n",
              "      <td>3</td>\n",
              "    </tr>\n",
              "    <tr>\n",
              "      <th>3</th>\n",
              "      <td>23</td>\n",
              "      <td>65500</td>\n",
              "      <td>RENT</td>\n",
              "      <td>4.0</td>\n",
              "      <td>MEDICAL</td>\n",
              "      <td>35000</td>\n",
              "      <td>15.23</td>\n",
              "      <td>1</td>\n",
              "      <td>0.53</td>\n",
              "      <td>N</td>\n",
              "      <td>2</td>\n",
              "    </tr>\n",
              "    <tr>\n",
              "      <th>4</th>\n",
              "      <td>24</td>\n",
              "      <td>54400</td>\n",
              "      <td>RENT</td>\n",
              "      <td>8.0</td>\n",
              "      <td>MEDICAL</td>\n",
              "      <td>35000</td>\n",
              "      <td>14.27</td>\n",
              "      <td>1</td>\n",
              "      <td>0.55</td>\n",
              "      <td>Y</td>\n",
              "      <td>4</td>\n",
              "    </tr>\n",
              "    <tr>\n",
              "      <th>5</th>\n",
              "      <td>21</td>\n",
              "      <td>9900</td>\n",
              "      <td>OWN</td>\n",
              "      <td>2.0</td>\n",
              "      <td>VENTURE</td>\n",
              "      <td>2500</td>\n",
              "      <td>7.14</td>\n",
              "      <td>1</td>\n",
              "      <td>0.25</td>\n",
              "      <td>N</td>\n",
              "      <td>2</td>\n",
              "    </tr>\n",
              "  </tbody>\n",
              "</table>\n",
              "</div>\n",
              "      <button class=\"colab-df-convert\" onclick=\"convertToInteractive('df-be8d1575-24ff-49ca-9aba-c26c6a39daf5')\"\n",
              "              title=\"Convert this dataframe to an interactive table.\"\n",
              "              style=\"display:none;\">\n",
              "\n",
              "  <svg xmlns=\"http://www.w3.org/2000/svg\" height=\"24px\"viewBox=\"0 0 24 24\"\n",
              "       width=\"24px\">\n",
              "    <path d=\"M0 0h24v24H0V0z\" fill=\"none\"/>\n",
              "    <path d=\"M18.56 5.44l.94 2.06.94-2.06 2.06-.94-2.06-.94-.94-2.06-.94 2.06-2.06.94zm-11 1L8.5 8.5l.94-2.06 2.06-.94-2.06-.94L8.5 2.5l-.94 2.06-2.06.94zm10 10l.94 2.06.94-2.06 2.06-.94-2.06-.94-.94-2.06-.94 2.06-2.06.94z\"/><path d=\"M17.41 7.96l-1.37-1.37c-.4-.4-.92-.59-1.43-.59-.52 0-1.04.2-1.43.59L10.3 9.45l-7.72 7.72c-.78.78-.78 2.05 0 2.83L4 21.41c.39.39.9.59 1.41.59.51 0 1.02-.2 1.41-.59l7.78-7.78 2.81-2.81c.8-.78.8-2.07 0-2.86zM5.41 20L4 18.59l7.72-7.72 1.47 1.35L5.41 20z\"/>\n",
              "  </svg>\n",
              "      </button>\n",
              "\n",
              "\n",
              "\n",
              "    <div id=\"df-1d839622-f6f8-4fdd-8584-763889fc727c\">\n",
              "      <button class=\"colab-df-quickchart\" onclick=\"quickchart('df-1d839622-f6f8-4fdd-8584-763889fc727c')\"\n",
              "              title=\"Suggest charts.\"\n",
              "              style=\"display:none;\">\n",
              "\n",
              "<svg xmlns=\"http://www.w3.org/2000/svg\" height=\"24px\"viewBox=\"0 0 24 24\"\n",
              "     width=\"24px\">\n",
              "    <g>\n",
              "        <path d=\"M19 3H5c-1.1 0-2 .9-2 2v14c0 1.1.9 2 2 2h14c1.1 0 2-.9 2-2V5c0-1.1-.9-2-2-2zM9 17H7v-7h2v7zm4 0h-2V7h2v10zm4 0h-2v-4h2v4z\"/>\n",
              "    </g>\n",
              "</svg>\n",
              "      </button>\n",
              "    </div>\n",
              "\n",
              "<style>\n",
              "  .colab-df-quickchart {\n",
              "    background-color: #E8F0FE;\n",
              "    border: none;\n",
              "    border-radius: 50%;\n",
              "    cursor: pointer;\n",
              "    display: none;\n",
              "    fill: #1967D2;\n",
              "    height: 32px;\n",
              "    padding: 0 0 0 0;\n",
              "    width: 32px;\n",
              "  }\n",
              "\n",
              "  .colab-df-quickchart:hover {\n",
              "    background-color: #E2EBFA;\n",
              "    box-shadow: 0px 1px 2px rgba(60, 64, 67, 0.3), 0px 1px 3px 1px rgba(60, 64, 67, 0.15);\n",
              "    fill: #174EA6;\n",
              "  }\n",
              "\n",
              "  [theme=dark] .colab-df-quickchart {\n",
              "    background-color: #3B4455;\n",
              "    fill: #D2E3FC;\n",
              "  }\n",
              "\n",
              "  [theme=dark] .colab-df-quickchart:hover {\n",
              "    background-color: #434B5C;\n",
              "    box-shadow: 0px 1px 3px 1px rgba(0, 0, 0, 0.15);\n",
              "    filter: drop-shadow(0px 1px 2px rgba(0, 0, 0, 0.3));\n",
              "    fill: #FFFFFF;\n",
              "  }\n",
              "</style>\n",
              "\n",
              "    <script>\n",
              "      async function quickchart(key) {\n",
              "        const containerElement = document.querySelector('#' + key);\n",
              "        const charts = await google.colab.kernel.invokeFunction(\n",
              "            'suggestCharts', [key], {});\n",
              "      }\n",
              "    </script>\n",
              "\n",
              "      <script>\n",
              "\n",
              "function displayQuickchartButton(domScope) {\n",
              "  let quickchartButtonEl =\n",
              "    domScope.querySelector('#df-1d839622-f6f8-4fdd-8584-763889fc727c button.colab-df-quickchart');\n",
              "  quickchartButtonEl.style.display =\n",
              "    google.colab.kernel.accessAllowed ? 'block' : 'none';\n",
              "}\n",
              "\n",
              "        displayQuickchartButton(document);\n",
              "      </script>\n",
              "      <style>\n",
              "    .colab-df-container {\n",
              "      display:flex;\n",
              "      flex-wrap:wrap;\n",
              "      gap: 12px;\n",
              "    }\n",
              "\n",
              "    .colab-df-convert {\n",
              "      background-color: #E8F0FE;\n",
              "      border: none;\n",
              "      border-radius: 50%;\n",
              "      cursor: pointer;\n",
              "      display: none;\n",
              "      fill: #1967D2;\n",
              "      height: 32px;\n",
              "      padding: 0 0 0 0;\n",
              "      width: 32px;\n",
              "    }\n",
              "\n",
              "    .colab-df-convert:hover {\n",
              "      background-color: #E2EBFA;\n",
              "      box-shadow: 0px 1px 2px rgba(60, 64, 67, 0.3), 0px 1px 3px 1px rgba(60, 64, 67, 0.15);\n",
              "      fill: #174EA6;\n",
              "    }\n",
              "\n",
              "    [theme=dark] .colab-df-convert {\n",
              "      background-color: #3B4455;\n",
              "      fill: #D2E3FC;\n",
              "    }\n",
              "\n",
              "    [theme=dark] .colab-df-convert:hover {\n",
              "      background-color: #434B5C;\n",
              "      box-shadow: 0px 1px 3px 1px rgba(0, 0, 0, 0.15);\n",
              "      filter: drop-shadow(0px 1px 2px rgba(0, 0, 0, 0.3));\n",
              "      fill: #FFFFFF;\n",
              "    }\n",
              "  </style>\n",
              "\n",
              "      <script>\n",
              "        const buttonEl =\n",
              "          document.querySelector('#df-be8d1575-24ff-49ca-9aba-c26c6a39daf5 button.colab-df-convert');\n",
              "        buttonEl.style.display =\n",
              "          google.colab.kernel.accessAllowed ? 'block' : 'none';\n",
              "\n",
              "        async function convertToInteractive(key) {\n",
              "          const element = document.querySelector('#df-be8d1575-24ff-49ca-9aba-c26c6a39daf5');\n",
              "          const dataTable =\n",
              "            await google.colab.kernel.invokeFunction('convertToInteractive',\n",
              "                                                     [key], {});\n",
              "          if (!dataTable) return;\n",
              "\n",
              "          const docLinkHtml = 'Like what you see? Visit the ' +\n",
              "            '<a target=\"_blank\" href=https://colab.research.google.com/notebooks/data_table.ipynb>data table notebook</a>'\n",
              "            + ' to learn more about interactive tables.';\n",
              "          element.innerHTML = '';\n",
              "          dataTable['output_type'] = 'display_data';\n",
              "          await google.colab.output.renderOutput(dataTable, element);\n",
              "          const docLink = document.createElement('div');\n",
              "          docLink.innerHTML = docLinkHtml;\n",
              "          element.appendChild(docLink);\n",
              "        }\n",
              "      </script>\n",
              "    </div>\n",
              "  </div>\n"
            ]
          },
          "metadata": {},
          "execution_count": 15
        }
      ],
      "source": [
        "loan_df_assumption.head()"
      ]
    },
    {
      "cell_type": "markdown",
      "id": "c1ce7a9b",
      "metadata": {
        "id": "c1ce7a9b"
      },
      "source": [
        "# Resetting Index:\n",
        "    Use: df.reset_index(drop = True) method"
      ]
    },
    {
      "cell_type": "code",
      "execution_count": null,
      "id": "2a9cedf1",
      "metadata": {
        "id": "2a9cedf1"
      },
      "outputs": [],
      "source": [
        "loan_df_assumption = loan_df_assumption.reset_index(drop =  True)"
      ]
    },
    {
      "cell_type": "code",
      "execution_count": null,
      "id": "645b04ef",
      "metadata": {
        "colab": {
          "base_uri": "https://localhost:8080/",
          "height": 206
        },
        "id": "645b04ef",
        "outputId": "62a36ca4-1d7f-415d-f7d4-45a82bb552a5"
      },
      "outputs": [
        {
          "output_type": "execute_result",
          "data": {
            "text/plain": [
              "   person_age  person_income person_home_ownership  person_emp_length  \\\n",
              "0          21           9600                   OWN                5.0   \n",
              "1          25           9600              MORTGAGE                1.0   \n",
              "2          23          65500                  RENT                4.0   \n",
              "3          24          54400                  RENT                8.0   \n",
              "4          21           9900                   OWN                2.0   \n",
              "\n",
              "  loan_intent  loan_amnt  loan_int_rate  loan_status  loan_percent_income  \\\n",
              "0   EDUCATION       1000          11.14            0                 0.10   \n",
              "1     MEDICAL       5500          12.87            1                 0.57   \n",
              "2     MEDICAL      35000          15.23            1                 0.53   \n",
              "3     MEDICAL      35000          14.27            1                 0.55   \n",
              "4     VENTURE       2500           7.14            1                 0.25   \n",
              "\n",
              "  cb_person_default_on_file  cb_person_cred_hist_length  \n",
              "0                         N                           2  \n",
              "1                         N                           3  \n",
              "2                         N                           2  \n",
              "3                         Y                           4  \n",
              "4                         N                           2  "
            ],
            "text/html": [
              "\n",
              "\n",
              "  <div id=\"df-fd4fc8e7-62d8-420a-915d-ebda6aeb7872\">\n",
              "    <div class=\"colab-df-container\">\n",
              "      <div>\n",
              "<style scoped>\n",
              "    .dataframe tbody tr th:only-of-type {\n",
              "        vertical-align: middle;\n",
              "    }\n",
              "\n",
              "    .dataframe tbody tr th {\n",
              "        vertical-align: top;\n",
              "    }\n",
              "\n",
              "    .dataframe thead th {\n",
              "        text-align: right;\n",
              "    }\n",
              "</style>\n",
              "<table border=\"1\" class=\"dataframe\">\n",
              "  <thead>\n",
              "    <tr style=\"text-align: right;\">\n",
              "      <th></th>\n",
              "      <th>person_age</th>\n",
              "      <th>person_income</th>\n",
              "      <th>person_home_ownership</th>\n",
              "      <th>person_emp_length</th>\n",
              "      <th>loan_intent</th>\n",
              "      <th>loan_amnt</th>\n",
              "      <th>loan_int_rate</th>\n",
              "      <th>loan_status</th>\n",
              "      <th>loan_percent_income</th>\n",
              "      <th>cb_person_default_on_file</th>\n",
              "      <th>cb_person_cred_hist_length</th>\n",
              "    </tr>\n",
              "  </thead>\n",
              "  <tbody>\n",
              "    <tr>\n",
              "      <th>0</th>\n",
              "      <td>21</td>\n",
              "      <td>9600</td>\n",
              "      <td>OWN</td>\n",
              "      <td>5.0</td>\n",
              "      <td>EDUCATION</td>\n",
              "      <td>1000</td>\n",
              "      <td>11.14</td>\n",
              "      <td>0</td>\n",
              "      <td>0.10</td>\n",
              "      <td>N</td>\n",
              "      <td>2</td>\n",
              "    </tr>\n",
              "    <tr>\n",
              "      <th>1</th>\n",
              "      <td>25</td>\n",
              "      <td>9600</td>\n",
              "      <td>MORTGAGE</td>\n",
              "      <td>1.0</td>\n",
              "      <td>MEDICAL</td>\n",
              "      <td>5500</td>\n",
              "      <td>12.87</td>\n",
              "      <td>1</td>\n",
              "      <td>0.57</td>\n",
              "      <td>N</td>\n",
              "      <td>3</td>\n",
              "    </tr>\n",
              "    <tr>\n",
              "      <th>2</th>\n",
              "      <td>23</td>\n",
              "      <td>65500</td>\n",
              "      <td>RENT</td>\n",
              "      <td>4.0</td>\n",
              "      <td>MEDICAL</td>\n",
              "      <td>35000</td>\n",
              "      <td>15.23</td>\n",
              "      <td>1</td>\n",
              "      <td>0.53</td>\n",
              "      <td>N</td>\n",
              "      <td>2</td>\n",
              "    </tr>\n",
              "    <tr>\n",
              "      <th>3</th>\n",
              "      <td>24</td>\n",
              "      <td>54400</td>\n",
              "      <td>RENT</td>\n",
              "      <td>8.0</td>\n",
              "      <td>MEDICAL</td>\n",
              "      <td>35000</td>\n",
              "      <td>14.27</td>\n",
              "      <td>1</td>\n",
              "      <td>0.55</td>\n",
              "      <td>Y</td>\n",
              "      <td>4</td>\n",
              "    </tr>\n",
              "    <tr>\n",
              "      <th>4</th>\n",
              "      <td>21</td>\n",
              "      <td>9900</td>\n",
              "      <td>OWN</td>\n",
              "      <td>2.0</td>\n",
              "      <td>VENTURE</td>\n",
              "      <td>2500</td>\n",
              "      <td>7.14</td>\n",
              "      <td>1</td>\n",
              "      <td>0.25</td>\n",
              "      <td>N</td>\n",
              "      <td>2</td>\n",
              "    </tr>\n",
              "  </tbody>\n",
              "</table>\n",
              "</div>\n",
              "      <button class=\"colab-df-convert\" onclick=\"convertToInteractive('df-fd4fc8e7-62d8-420a-915d-ebda6aeb7872')\"\n",
              "              title=\"Convert this dataframe to an interactive table.\"\n",
              "              style=\"display:none;\">\n",
              "\n",
              "  <svg xmlns=\"http://www.w3.org/2000/svg\" height=\"24px\"viewBox=\"0 0 24 24\"\n",
              "       width=\"24px\">\n",
              "    <path d=\"M0 0h24v24H0V0z\" fill=\"none\"/>\n",
              "    <path d=\"M18.56 5.44l.94 2.06.94-2.06 2.06-.94-2.06-.94-.94-2.06-.94 2.06-2.06.94zm-11 1L8.5 8.5l.94-2.06 2.06-.94-2.06-.94L8.5 2.5l-.94 2.06-2.06.94zm10 10l.94 2.06.94-2.06 2.06-.94-2.06-.94-.94-2.06-.94 2.06-2.06.94z\"/><path d=\"M17.41 7.96l-1.37-1.37c-.4-.4-.92-.59-1.43-.59-.52 0-1.04.2-1.43.59L10.3 9.45l-7.72 7.72c-.78.78-.78 2.05 0 2.83L4 21.41c.39.39.9.59 1.41.59.51 0 1.02-.2 1.41-.59l7.78-7.78 2.81-2.81c.8-.78.8-2.07 0-2.86zM5.41 20L4 18.59l7.72-7.72 1.47 1.35L5.41 20z\"/>\n",
              "  </svg>\n",
              "      </button>\n",
              "\n",
              "\n",
              "\n",
              "    <div id=\"df-76c1a0b7-99af-4587-b20a-c4ee98ac30a4\">\n",
              "      <button class=\"colab-df-quickchart\" onclick=\"quickchart('df-76c1a0b7-99af-4587-b20a-c4ee98ac30a4')\"\n",
              "              title=\"Suggest charts.\"\n",
              "              style=\"display:none;\">\n",
              "\n",
              "<svg xmlns=\"http://www.w3.org/2000/svg\" height=\"24px\"viewBox=\"0 0 24 24\"\n",
              "     width=\"24px\">\n",
              "    <g>\n",
              "        <path d=\"M19 3H5c-1.1 0-2 .9-2 2v14c0 1.1.9 2 2 2h14c1.1 0 2-.9 2-2V5c0-1.1-.9-2-2-2zM9 17H7v-7h2v7zm4 0h-2V7h2v10zm4 0h-2v-4h2v4z\"/>\n",
              "    </g>\n",
              "</svg>\n",
              "      </button>\n",
              "    </div>\n",
              "\n",
              "<style>\n",
              "  .colab-df-quickchart {\n",
              "    background-color: #E8F0FE;\n",
              "    border: none;\n",
              "    border-radius: 50%;\n",
              "    cursor: pointer;\n",
              "    display: none;\n",
              "    fill: #1967D2;\n",
              "    height: 32px;\n",
              "    padding: 0 0 0 0;\n",
              "    width: 32px;\n",
              "  }\n",
              "\n",
              "  .colab-df-quickchart:hover {\n",
              "    background-color: #E2EBFA;\n",
              "    box-shadow: 0px 1px 2px rgba(60, 64, 67, 0.3), 0px 1px 3px 1px rgba(60, 64, 67, 0.15);\n",
              "    fill: #174EA6;\n",
              "  }\n",
              "\n",
              "  [theme=dark] .colab-df-quickchart {\n",
              "    background-color: #3B4455;\n",
              "    fill: #D2E3FC;\n",
              "  }\n",
              "\n",
              "  [theme=dark] .colab-df-quickchart:hover {\n",
              "    background-color: #434B5C;\n",
              "    box-shadow: 0px 1px 3px 1px rgba(0, 0, 0, 0.15);\n",
              "    filter: drop-shadow(0px 1px 2px rgba(0, 0, 0, 0.3));\n",
              "    fill: #FFFFFF;\n",
              "  }\n",
              "</style>\n",
              "\n",
              "    <script>\n",
              "      async function quickchart(key) {\n",
              "        const containerElement = document.querySelector('#' + key);\n",
              "        const charts = await google.colab.kernel.invokeFunction(\n",
              "            'suggestCharts', [key], {});\n",
              "      }\n",
              "    </script>\n",
              "\n",
              "      <script>\n",
              "\n",
              "function displayQuickchartButton(domScope) {\n",
              "  let quickchartButtonEl =\n",
              "    domScope.querySelector('#df-76c1a0b7-99af-4587-b20a-c4ee98ac30a4 button.colab-df-quickchart');\n",
              "  quickchartButtonEl.style.display =\n",
              "    google.colab.kernel.accessAllowed ? 'block' : 'none';\n",
              "}\n",
              "\n",
              "        displayQuickchartButton(document);\n",
              "      </script>\n",
              "      <style>\n",
              "    .colab-df-container {\n",
              "      display:flex;\n",
              "      flex-wrap:wrap;\n",
              "      gap: 12px;\n",
              "    }\n",
              "\n",
              "    .colab-df-convert {\n",
              "      background-color: #E8F0FE;\n",
              "      border: none;\n",
              "      border-radius: 50%;\n",
              "      cursor: pointer;\n",
              "      display: none;\n",
              "      fill: #1967D2;\n",
              "      height: 32px;\n",
              "      padding: 0 0 0 0;\n",
              "      width: 32px;\n",
              "    }\n",
              "\n",
              "    .colab-df-convert:hover {\n",
              "      background-color: #E2EBFA;\n",
              "      box-shadow: 0px 1px 2px rgba(60, 64, 67, 0.3), 0px 1px 3px 1px rgba(60, 64, 67, 0.15);\n",
              "      fill: #174EA6;\n",
              "    }\n",
              "\n",
              "    [theme=dark] .colab-df-convert {\n",
              "      background-color: #3B4455;\n",
              "      fill: #D2E3FC;\n",
              "    }\n",
              "\n",
              "    [theme=dark] .colab-df-convert:hover {\n",
              "      background-color: #434B5C;\n",
              "      box-shadow: 0px 1px 3px 1px rgba(0, 0, 0, 0.15);\n",
              "      filter: drop-shadow(0px 1px 2px rgba(0, 0, 0, 0.3));\n",
              "      fill: #FFFFFF;\n",
              "    }\n",
              "  </style>\n",
              "\n",
              "      <script>\n",
              "        const buttonEl =\n",
              "          document.querySelector('#df-fd4fc8e7-62d8-420a-915d-ebda6aeb7872 button.colab-df-convert');\n",
              "        buttonEl.style.display =\n",
              "          google.colab.kernel.accessAllowed ? 'block' : 'none';\n",
              "\n",
              "        async function convertToInteractive(key) {\n",
              "          const element = document.querySelector('#df-fd4fc8e7-62d8-420a-915d-ebda6aeb7872');\n",
              "          const dataTable =\n",
              "            await google.colab.kernel.invokeFunction('convertToInteractive',\n",
              "                                                     [key], {});\n",
              "          if (!dataTable) return;\n",
              "\n",
              "          const docLinkHtml = 'Like what you see? Visit the ' +\n",
              "            '<a target=\"_blank\" href=https://colab.research.google.com/notebooks/data_table.ipynb>data table notebook</a>'\n",
              "            + ' to learn more about interactive tables.';\n",
              "          element.innerHTML = '';\n",
              "          dataTable['output_type'] = 'display_data';\n",
              "          await google.colab.output.renderOutput(dataTable, element);\n",
              "          const docLink = document.createElement('div');\n",
              "          docLink.innerHTML = docLinkHtml;\n",
              "          element.appendChild(docLink);\n",
              "        }\n",
              "      </script>\n",
              "    </div>\n",
              "  </div>\n"
            ]
          },
          "metadata": {},
          "execution_count": 17
        }
      ],
      "source": [
        "# New index\n",
        "loan_df_assumption.head()"
      ]
    },
    {
      "cell_type": "markdown",
      "id": "600f8927",
      "metadata": {
        "id": "600f8927"
      },
      "source": [
        "---"
      ]
    },
    {
      "cell_type": "markdown",
      "id": "26e533cd",
      "metadata": {
        "id": "26e533cd"
      },
      "source": [
        "# Hypothesis 1:\n",
        "$H_0$: `The average age of loan borrowers` who defaulted and who didn't are not different.\n",
        "\n",
        "$H_a$: `The average age of loan borrowers` who defaulted and who didn't are significantly different.\n",
        "\n"
      ]
    },
    {
      "cell_type": "markdown",
      "id": "8e92aa45",
      "metadata": {
        "id": "8e92aa45"
      },
      "source": [
        "## Frequency distribution of the borrowers age"
      ]
    },
    {
      "cell_type": "code",
      "execution_count": null,
      "id": "60dc4b02",
      "metadata": {
        "colab": {
          "base_uri": "https://localhost:8080/",
          "height": 475
        },
        "id": "60dc4b02",
        "outputId": "60b23a6c-e058-495f-fc8a-4f322b2c6195"
      },
      "outputs": [
        {
          "output_type": "execute_result",
          "data": {
            "text/plain": [
              "<Axes: xlabel='person_age', ylabel='Count'>"
            ]
          },
          "metadata": {},
          "execution_count": 18
        },
        {
          "output_type": "display_data",
          "data": {
            "text/plain": [
              "<Figure size 640x480 with 1 Axes>"
            ],
            "image/png": "[encoded data removed]"
          },
          "metadata": {}
        }
      ],
      "source": [
        "sns.histplot(loan_df_assumption['person_age'], bins = 40, kde=True)"
      ]
    },
    {
      "cell_type": "markdown",
      "id": "36868210",
      "metadata": {
        "id": "36868210"
      },
      "source": [
        "## Grouping into `defaulted` and `non_defaulted`"
      ]
    },
    {
      "cell_type": "code",
      "execution_count": null,
      "id": "b27f13f8",
      "metadata": {
        "id": "b27f13f8"
      },
      "outputs": [],
      "source": [
        "defaulted_loan_df = loan_df_assumption[loan_df_assumption['loan_status'] == 1]\n",
        "non_defaulted_loan_df = loan_df_assumption[loan_df_assumption['loan_status'] == 0]"
      ]
    },
    {
      "cell_type": "markdown",
      "id": "5c918975",
      "metadata": {
        "id": "5c918975"
      },
      "source": [
        "### count of defaulted loans"
      ]
    },
    {
      "cell_type": "code",
      "execution_count": null,
      "id": "f29b380d",
      "metadata": {
        "scrolled": true,
        "colab": {
          "base_uri": "https://localhost:8080/"
        },
        "id": "f29b380d",
        "outputId": "7dd2d849-bc82-497f-e7fe-0d31c77d0eb4"
      },
      "outputs": [
        {
          "output_type": "execute_result",
          "data": {
            "text/plain": [
              "7107"
            ]
          },
          "metadata": {},
          "execution_count": 20
        }
      ],
      "source": [
        "defaulted_loan_df.shape[0]"
      ]
    },
    {
      "cell_type": "markdown",
      "id": "f1363960",
      "metadata": {
        "id": "f1363960"
      },
      "source": [
        "### count of non_defaulted loans"
      ]
    },
    {
      "cell_type": "code",
      "execution_count": null,
      "id": "5df19aff",
      "metadata": {
        "colab": {
          "base_uri": "https://localhost:8080/"
        },
        "id": "5df19aff",
        "outputId": "71bbde7b-baab-4fe3-b145-7cefb9a46a36"
      },
      "outputs": [
        {
          "output_type": "execute_result",
          "data": {
            "text/plain": [
              "25467"
            ]
          },
          "metadata": {},
          "execution_count": 21
        }
      ],
      "source": [
        "non_defaulted_loan_df.shape[0]"
      ]
    },
    {
      "cell_type": "markdown",
      "id": "6e4033b2",
      "metadata": {
        "id": "6e4033b2"
      },
      "source": [
        "### non_defaulted average person age"
      ]
    },
    {
      "cell_type": "code",
      "execution_count": null,
      "id": "a360a445",
      "metadata": {
        "colab": {
          "base_uri": "https://localhost:8080/"
        },
        "id": "a360a445",
        "outputId": "50d90f07-f2bf-47c3-9b53-60406cab1837"
      },
      "outputs": [
        {
          "output_type": "execute_result",
          "data": {
            "text/plain": [
              "27.786233164487374"
            ]
          },
          "metadata": {},
          "execution_count": 22
        }
      ],
      "source": [
        "non_defaulted_loan_df['person_age'].mean()"
      ]
    },
    {
      "cell_type": "markdown",
      "id": "390462fe",
      "metadata": {
        "id": "390462fe"
      },
      "source": [
        "### defaulted average person age"
      ]
    },
    {
      "cell_type": "code",
      "execution_count": null,
      "id": "6b18bdbe",
      "metadata": {
        "colab": {
          "base_uri": "https://localhost:8080/"
        },
        "id": "6b18bdbe",
        "outputId": "c72ebe19-c9c1-4b31-b783-9a5b68ae109c"
      },
      "outputs": [
        {
          "output_type": "execute_result",
          "data": {
            "text/plain": [
              "27.475446742648092"
            ]
          },
          "metadata": {},
          "execution_count": 23
        }
      ],
      "source": [
        "defaulted_loan_df['person_age'].mean()"
      ]
    },
    {
      "cell_type": "markdown",
      "id": "6b486801",
      "metadata": {
        "id": "6b486801"
      },
      "source": [
        "## import t_test statistics library"
      ]
    },
    {
      "cell_type": "code",
      "execution_count": null,
      "id": "c2e69db6",
      "metadata": {
        "id": "c2e69db6"
      },
      "outputs": [],
      "source": [
        "from scipy.stats.stats import ttest_ind\n",
        "from scipy.stats import stats"
      ]
    },
    {
      "cell_type": "markdown",
      "id": "ff2f910e",
      "metadata": {
        "id": "ff2f910e"
      },
      "source": [
        "### Independent two_samples t-test"
      ]
    },
    {
      "cell_type": "code",
      "execution_count": null,
      "id": "ab2e5821",
      "metadata": {
        "colab": {
          "base_uri": "https://localhost:8080/"
        },
        "id": "ab2e5821",
        "outputId": "db3db62f-10a7-4691-9bd6-32e386f6a06f"
      },
      "outputs": [
        {
          "output_type": "execute_result",
          "data": {
            "text/plain": [
              "Ttest_indResult(statistic=-3.73425447873653, pvalue=0.00018859263075426995)"
            ]
          },
          "metadata": {},
          "execution_count": 25
        }
      ],
      "source": [
        "ttest_ind(defaulted_loan_df['person_age'], non_defaulted_loan_df['person_age'])"
      ]
    },
    {
      "cell_type": "markdown",
      "id": "cb0efbc7",
      "metadata": {
        "id": "cb0efbc7"
      },
      "source": [
        "## Summary of findings for hypothesis 1:\n",
        "\n",
        "The t-test shows that there is a significant difference between person_ages who defaulted and who didn't. This means that older ages who borrowed loans would not be defaulted compared to younger ages. **Hypothesis rejected.**"
      ]
    },
    {
      "cell_type": "markdown",
      "id": "ffa35b66",
      "metadata": {
        "id": "ffa35b66"
      },
      "source": [
        "---"
      ]
    },
    {
      "cell_type": "markdown",
      "id": "e8b557aa",
      "metadata": {
        "id": "e8b557aa"
      },
      "source": [
        "# Hypothesis 2:\n",
        " __Hypothesis:__ `Loan amount` and `person income` for `defaulted loans` are correlated.\n"
      ]
    },
    {
      "cell_type": "markdown",
      "id": "197bf370",
      "metadata": {
        "id": "197bf370"
      },
      "source": [
        "### Scatter plot of `loan_amnt` vs `person_income`"
      ]
    },
    {
      "cell_type": "code",
      "execution_count": null,
      "id": "a1298bd8",
      "metadata": {
        "colab": {
          "base_uri": "https://localhost:8080/",
          "height": 472
        },
        "id": "a1298bd8",
        "outputId": "b2b20cca-53d7-42cc-8c45-3dd9fe79a5f5"
      },
      "outputs": [
        {
          "output_type": "display_data",
          "data": {
            "text/plain": [
              "<Figure size 1800x500 with 1 Axes>"
            ],
            "image/png": "[encoded data removed]"
          },
          "metadata": {}
        }
      ],
      "source": [
        "plt.figure(figsize=(18,5))\n",
        "\n",
        "plt.subplot(1,3,1)\n",
        "plt.scatter(defaulted_loan_df[\"loan_amnt\"], defaulted_loan_df[\"person_income\"])\n",
        "plt.title(\"loan amount vs person income\")\n",
        "\n",
        "\n",
        "plt.show()"
      ]
    },
    {
      "cell_type": "markdown",
      "id": "8b99eb92",
      "metadata": {
        "id": "8b99eb92"
      },
      "source": [
        "### Pearson correlation coeffient with p-value"
      ]
    },
    {
      "cell_type": "code",
      "execution_count": null,
      "id": "76eb1166",
      "metadata": {
        "colab": {
          "base_uri": "https://localhost:8080/"
        },
        "id": "76eb1166",
        "outputId": "3a45ec8b-9072-4bdf-dd1e-457043ab6945"
      },
      "outputs": [
        {
          "output_type": "execute_result",
          "data": {
            "text/plain": [
              "PearsonRResult(statistic=0.42769743927442233, pvalue=4.5188264797e-314)"
            ]
          },
          "metadata": {},
          "execution_count": 27
        }
      ],
      "source": [
        "stats.pearsonr(defaulted_loan_df[\"loan_amnt\"], defaulted_loan_df[\"person_income\"])"
      ]
    },
    {
      "cell_type": "markdown",
      "id": "815c3ea0",
      "metadata": {
        "id": "815c3ea0"
      },
      "source": [
        "## Summary of findings for hypothesis 2:\n",
        "\n",
        "A Pearson correlation coefficient of 0.43 indicates a **`moderate positive relationship`** between the `loan amount` and `person income` of defaulted loans. since th P-value < 0.05, the correlation is statisticallly significant. That means as one variable increases, the other tends to increase as well.**Hypothesis supported.**\n",
        "\n",
        "__Risk Assessment__: if the two variables are considered to be factors for credit risk, knowing that they are positively correlated could help lenders identify borrowers who are more likely to default on loans or have higher credit risk. This information might be used to adjust `lending criteria` or set `credit limits` accordingly.\n",
        "    \n",
        "    "
      ]
    },
    {
      "cell_type": "markdown",
      "id": "f820de1d",
      "metadata": {
        "id": "f820de1d"
      },
      "source": [
        "---"
      ]
    },
    {
      "cell_type": "code",
      "execution_count": null,
      "id": "8c4afa7f",
      "metadata": {
        "colab": {
          "base_uri": "https://localhost:8080/"
        },
        "id": "8c4afa7f",
        "outputId": "b8687f11-45bc-47ca-b539-ffbe8180e557"
      },
      "outputs": [
        {
          "output_type": "execute_result",
          "data": {
            "text/plain": [
              "Index(['person_age', 'person_income', 'person_home_ownership',\n",
              "       'person_emp_length', 'loan_intent', 'loan_amnt', 'loan_int_rate',\n",
              "       'loan_status', 'loan_percent_income', 'cb_person_default_on_file',\n",
              "       'cb_person_cred_hist_length'],\n",
              "      dtype='object')"
            ]
          },
          "metadata": {},
          "execution_count": 28
        }
      ],
      "source": [
        "loan_df_assumption.columns"
      ]
    },
    {
      "cell_type": "code",
      "execution_count": null,
      "id": "45241e95",
      "metadata": {
        "colab": {
          "base_uri": "https://localhost:8080/"
        },
        "id": "45241e95",
        "outputId": "71ee4ca9-fba8-49db-e5cd-8863fcee8e3f"
      },
      "outputs": [
        {
          "output_type": "execute_result",
          "data": {
            "text/plain": [
              "person_home_ownership    4\n",
              "loan_intent              6\n",
              "dtype: int64"
            ]
          },
          "metadata": {},
          "execution_count": 29
        }
      ],
      "source": [
        "loan_df_assumption[['person_home_ownership','loan_intent']].nunique()"
      ]
    },
    {
      "cell_type": "markdown",
      "id": "ab62450d",
      "metadata": {
        "id": "ab62450d"
      },
      "source": [
        "# The classification model/logistic regression\n",
        "# Data partition: train/test"
      ]
    },
    {
      "cell_type": "code",
      "execution_count": null,
      "id": "63d1f34e",
      "metadata": {
        "id": "63d1f34e"
      },
      "outputs": [],
      "source": [
        "# Use sklearn to import model_selection: train_test_split\n",
        "from sklearn.model_selection import train_test_split"
      ]
    },
    {
      "cell_type": "markdown",
      "id": "8bb41de8",
      "metadata": {
        "id": "8bb41de8"
      },
      "source": [
        "##  ML steps\n",
        "1. Partition data into training and testing sets FIRST!\n",
        "2. With Training data:\n",
        "\n",
        "  ### Prepare target variable:\n",
        "          \n",
        "  ### Prepare features:\n",
        "    \n",
        "      **Categorical Data**:\n",
        "        - extract categorical columns\n",
        "        - create dummy variables for categorical columns\n",
        "        - add dummy column names to `DataFrame`\n",
        "       \n",
        "      **Numeric Data**:\n",
        "        - extract numeric columns\n",
        "        - imput missing values\n",
        "        - standardize values\n",
        "        \n",
        "      **Boolean Data**:\n",
        "        - extract boolean columns\n",
        "        - impute missing values\n",
        "        - create to `True` and `False` values\n",
        "       \n",
        "      "
      ]
    },
    {
      "cell_type": "markdown",
      "id": "0b4e62ee",
      "metadata": {
        "id": "0b4e62ee"
      },
      "source": [
        "### Prepare feature variables:"
      ]
    },
    {
      "cell_type": "markdown",
      "id": "f2c28c75",
      "metadata": {
        "id": "f2c28c75"
      },
      "source": [
        "#### Extracting categorical, numerical, and boolean columns"
      ]
    },
    {
      "cell_type": "code",
      "execution_count": null,
      "id": "0819949e",
      "metadata": {
        "id": "0819949e"
      },
      "outputs": [],
      "source": [
        "## Making list of features to use them in the model\n",
        "\n",
        "# Categorical columns\n",
        "cat_cols = ['person_home_ownership', 'loan_intent']\n",
        "\n",
        "# numerical columns\n",
        "num_cols = ['person_age', 'person_income', 'person_emp_length', 'loan_amnt', 'loan_int_rate', 'loan_percent_income', 'cb_person_cred_hist_length']\n",
        "\n",
        "# boolean column\n",
        "bool_col = ['cb_person_default_on_file']"
      ]
    },
    {
      "cell_type": "markdown",
      "id": "56109ec9",
      "metadata": {
        "id": "56109ec9"
      },
      "source": [
        "#### convert bool 'Y' or 'N' to 1 or 0"
      ]
    },
    {
      "cell_type": "code",
      "execution_count": null,
      "id": "fbfc7ddf",
      "metadata": {
        "id": "fbfc7ddf"
      },
      "outputs": [],
      "source": [
        "def convert_bools(df):\n",
        "    map_dict = {'Y': 1.0, 'N': 0.0}\n",
        "    df = df.replace(map_dict)\n",
        "    return df"
      ]
    },
    {
      "cell_type": "code",
      "execution_count": null,
      "id": "42ba5d75",
      "metadata": {
        "id": "42ba5d75"
      },
      "outputs": [],
      "source": [
        "loan_df_0_1_bool = convert_bools(loan_df_assumption)"
      ]
    },
    {
      "cell_type": "markdown",
      "id": "be1c6db5",
      "metadata": {
        "id": "be1c6db5"
      },
      "source": [
        "#### introduce dummy variables for the cat_cols\n"
      ]
    },
    {
      "cell_type": "code",
      "execution_count": null,
      "id": "ee8fd2f5",
      "metadata": {
        "id": "ee8fd2f5"
      },
      "outputs": [],
      "source": [
        "loan_df_dummies = pd.get_dummies(loan_df_0_1_bool, columns = cat_cols, drop_first = True, prefix = ['HO','LI'])"
      ]
    },
    {
      "cell_type": "code",
      "execution_count": null,
      "id": "584fb21f",
      "metadata": {
        "id": "584fb21f"
      },
      "outputs": [],
      "source": [
        "# identify target variable and independent variables and split them into train and test\n",
        "\n",
        "X = loan_df_dummies.drop('loan_status',axis = 1)\n",
        "y = loan_df_dummies['loan_status']\n",
        "X_train,X_test,y_train,y_test = train_test_split(X,y,test_size = 0.2, random_state = 10) # random _state controls shuffling process"
      ]
    },
    {
      "cell_type": "markdown",
      "id": "4528153e",
      "metadata": {
        "id": "4528153e"
      },
      "source": [
        "## The model"
      ]
    },
    {
      "cell_type": "code",
      "execution_count": null,
      "id": "9c24eace",
      "metadata": {
        "id": "9c24eace"
      },
      "outputs": [],
      "source": [
        "from sklearn.linear_model import LogisticRegression\n",
        "from sklearn.model_selection import cross_val_score\n",
        "from sklearn.metrics import classification_report,confusion_matrix,accuracy_score\n",
        "from matplotlib import pyplot"
      ]
    },
    {
      "cell_type": "code",
      "execution_count": null,
      "id": "d7e253e0",
      "metadata": {
        "id": "d7e253e0"
      },
      "outputs": [],
      "source": [
        "# LogisticRegression\n",
        "log_reg_model = LogisticRegression()\n",
        "log_reg_model.fit(X_train, y_train)\n",
        "\n",
        "# Prediction\n",
        "y_pred = log_reg_model.predict(X_test)\n"
      ]
    },
    {
      "cell_type": "code",
      "execution_count": null,
      "id": "56d0db78",
      "metadata": {
        "colab": {
          "base_uri": "https://localhost:8080/"
        },
        "id": "56d0db78",
        "outputId": "0d2b42af-bb46-41c9-d44a-742a52831be7"
      },
      "outputs": [
        {
          "output_type": "execute_result",
          "data": {
            "text/plain": [
              "array([[0.85604738, 0.14395262],\n",
              "       [0.87741095, 0.12258905],\n",
              "       [0.72175816, 0.27824184],\n",
              "       ...,\n",
              "       [0.77492656, 0.22507344],\n",
              "       [0.69667674, 0.30332326],\n",
              "       [0.94266609, 0.05733391]])"
            ]
          },
          "metadata": {},
          "execution_count": 38
        }
      ],
      "source": [
        "y_pred_proba = log_reg_model.predict_proba(X_test)\n",
        "y_pred_proba"
      ]
    },
    {
      "cell_type": "markdown",
      "id": "6f089408",
      "metadata": {
        "id": "6f089408"
      },
      "source": [
        "# Model Performance"
      ]
    },
    {
      "cell_type": "code",
      "execution_count": null,
      "id": "ec839d41",
      "metadata": {
        "colab": {
          "base_uri": "https://localhost:8080/"
        },
        "id": "ec839d41",
        "outputId": "7c8e20de-63cd-47be-de48-426efe213b41"
      },
      "outputs": [
        {
          "output_type": "stream",
          "name": "stdout",
          "text": [
            "Logistic Regression model accuracy (in %): 81\n"
          ]
        }
      ],
      "source": [
        "acc = accuracy_score(y_test, y_pred)\n",
        "print(\"Logistic Regression model accuracy (in %):\", round(acc*100))"
      ]
    },
    {
      "cell_type": "markdown",
      "id": "bc5802bd",
      "metadata": {
        "id": "bc5802bd"
      },
      "source": [
        "### Classification Report"
      ]
    },
    {
      "cell_type": "code",
      "execution_count": null,
      "id": "27f03ff9",
      "metadata": {
        "colab": {
          "base_uri": "https://localhost:8080/"
        },
        "id": "27f03ff9",
        "outputId": "63696e52-05b0-4b15-c990-6658cf00841b"
      },
      "outputs": [
        {
          "output_type": "stream",
          "name": "stdout",
          "text": [
            "                    precision    recall  f1-score   support\n",
            "\n",
            "Non_defaulted_loan       0.81      0.98      0.89      5120\n",
            "    Defaulted_loan       0.74      0.16      0.27      1395\n",
            "\n",
            "          accuracy                           0.81      6515\n",
            "         macro avg       0.78      0.57      0.58      6515\n",
            "      weighted avg       0.80      0.81      0.76      6515\n",
            "\n"
          ]
        }
      ],
      "source": [
        "# all features\n",
        "print(classification_report(y_test,y_pred, target_names = ['Non_defaulted_loan','Defaulted_loan']))"
      ]
    },
    {
      "cell_type": "markdown",
      "id": "6844df73",
      "metadata": {
        "id": "6844df73"
      },
      "source": [
        "#### confusion_matrix"
      ]
    },
    {
      "cell_type": "code",
      "execution_count": null,
      "id": "c1e5df58",
      "metadata": {
        "colab": {
          "base_uri": "https://localhost:8080/"
        },
        "id": "c1e5df58",
        "outputId": "3b691b53-c0db-4733-f2af-cc3f650ad691"
      },
      "outputs": [
        {
          "output_type": "stream",
          "name": "stdout",
          "text": [
            "precision: 0.74\n"
          ]
        }
      ],
      "source": [
        "con_mat = confusion_matrix(y_test,y_pred)\n",
        "print('precision: %.2f' % (con_mat[1][1]/(con_mat[1][1]+con_mat[0][1])))"
      ]
    },
    {
      "cell_type": "markdown",
      "id": "d0b6d2b3",
      "metadata": {
        "id": "d0b6d2b3"
      },
      "source": [
        "#### Roc_curve"
      ]
    },
    {
      "cell_type": "code",
      "execution_count": null,
      "id": "52be93ef",
      "metadata": {
        "colab": {
          "base_uri": "https://localhost:8080/",
          "height": 480
        },
        "id": "52be93ef",
        "outputId": "94c97877-1b34-4c8c-c77e-f9981b4d3275"
      },
      "outputs": [
        {
          "output_type": "display_data",
          "data": {
            "text/plain": [
              "<Figure size 640x480 with 1 Axes>"
            ],
            "image/png": "[encoded data removed]"
          },
          "metadata": {}
        }
      ],
      "source": [
        "from sklearn.metrics import roc_curve\n",
        "from sklearn.metrics import roc_auc_score\n",
        "\n",
        "logit_roc_auc = roc_auc_score(y_test, log_reg_model.predict_proba(X_test)[:,1])\n",
        "\n",
        "#fpr, tpr, thresholds = roc_curve(y_test, y_pred)\n",
        "fpr, tpr, thresholds = roc_curve(y_test, log_reg_model.predict_proba(X_test)[:,1])\n",
        "\n",
        "plt.figure()\n",
        "plt.plot(fpr,tpr,label = \"Logistic Regression(area = %.2f)\" % logit_roc_auc)\n",
        "plt.plot([0,1],[0,1],'r--')\n",
        "plt.xlim([0,1])\n",
        "plt.ylim([0,1.05])\n",
        "plt.xlabel(\"False Positive Rate\")\n",
        "plt.ylabel(\"True Positive Rate\")\n",
        "plt.title('Loan Status characteristic')\n",
        "plt.legend(loc = 'lower right')\n",
        "plt.grid()\n",
        "plt.show();"
      ]
    },
    {
      "cell_type": "markdown",
      "id": "c1537273",
      "metadata": {
        "id": "c1537273"
      },
      "source": [
        "### Feature important\n",
        "    refers to techniques that assign a score to input features based on how useful they are at predicting a target variable."
      ]
    },
    {
      "cell_type": "code",
      "execution_count": null,
      "id": "93990495",
      "metadata": {
        "colab": {
          "base_uri": "https://localhost:8080/",
          "height": 712
        },
        "id": "93990495",
        "outputId": "80929389-a60c-46a2-ec6b-8df6b4a22bed"
      },
      "outputs": [
        {
          "output_type": "stream",
          "name": "stdout",
          "text": [
            "Feature: person_age, Score: -0.0\n",
            "Feature: person_income, Score: -4e-05\n",
            "Feature: person_emp_length, Score: -0.0\n",
            "Feature: loan_amnt, Score: 0.0001\n",
            "Feature: loan_int_rate, Score: 0.0\n",
            "Feature: loan_percent_income, Score: 0.0\n",
            "Feature: cb_person_default_on_file, Score: 0.0\n",
            "Feature: cb_person_cred_hist_length, Score: -0.0\n",
            "Feature: HO_OTHER, Score: 0.0\n",
            "Feature: HO_OWN, Score: -0.0\n",
            "Feature: HO_RENT, Score: 0.0\n",
            "Feature: LI_EDUCATION, Score: -0.0\n",
            "Feature: LI_HOMEIMPROVEMENT, Score: 0.0\n",
            "Feature: LI_MEDICAL, Score: 0.0\n",
            "Feature: LI_PERSONAL, Score: -0.0\n",
            "Feature: LI_VENTURE, Score: -0.0\n"
          ]
        },
        {
          "output_type": "display_data",
          "data": {
            "text/plain": [
              "<Figure size 640x480 with 1 Axes>"
            ],
            "image/png": "[encoded data removed]"
          },
          "metadata": {}
        }
      ],
      "source": [
        "# get importance\n",
        "importance = log_reg_model.coef_[0]\n",
        "\n",
        "# summarize feature importance\n",
        "for feat,important in zip(X.columns,importance):\n",
        "    print('Feature: {}, Score: {}' .format(feat,round(important,5)))\n",
        "\n",
        "# plot feature importance\n",
        "pyplot.bar([x for x in range(len(importance))], importance)\n",
        "pyplot.show()"
      ]
    },
    {
      "cell_type": "markdown",
      "id": "08e0054e",
      "metadata": {
        "id": "08e0054e"
      },
      "source": [
        "## Interprete:\n",
        "The positive scores indicate a feature that predicts class 1(loan defaulted), whereas the negative scores indicate a feature that predicts class 0(non_defaulted loan).\n",
        "\n",
        "Therefore, high loan amount would highly predict the loan status to be defaulted. and the higher person income predicts a non-defaulted loan.\n"
      ]
    }
  ],
  "metadata": {
    "kernelspec": {
      "display_name": "Python 3 (ipykernel)",
      "language": "python",
      "name": "python3"
    },
    "language_info": {
      "codemirror_mode": {
        "name": "ipython",
        "version": 3
      },
      "file_extension": ".py",
      "mimetype": "text/x-python",
      "name": "python",
      "nbconvert_exporter": "python",
      "pygments_lexer": "ipython3",
      "version": "3.9.13"
    },
    "colab": {
      "provenance": [],
      "include_colab_link": true
    }
  },
  "nbformat": 4,
  "nbformat_minor": 5
}